{
 "cells": [
  {
   "cell_type": "markdown",
   "id": "961e4f52",
   "metadata": {},
   "source": [
    "In arithmetic and number theory, the least common multiple, lowest common multiple, or smallest common multiple of two integers $a$ and $b$, usually denoted by $lcm(a, b)$, is the smallest positive integer that is divisible by both $a$ and $b$"
   ]
  },
  {
   "cell_type": "code",
   "execution_count": 1,
   "id": "74facb87",
   "metadata": {},
   "outputs": [
    {
     "name": "stdout",
     "output_type": "stream",
     "text": [
      "Enter the first number: 6\n",
      "Enter the second number: 8\n",
      "The LCM of 6 and 8 is 24.\n"
     ]
    }
   ],
   "source": [
    "# Define a function to find the greatest common divisor of two numbers\n",
    "def gcd(a, b):\n",
    "    while b:\n",
    "        a, b = b, a % b\n",
    "    return a\n",
    "\n",
    "# Define a function to find the least common multiple of two numbers\n",
    "def lcm(a, b):\n",
    "    return a * b // gcd(a, b)\n",
    "\n",
    "# Get the two numbers from the user\n",
    "num1 = int(input(\"Enter the first number: \"))\n",
    "num2 = int(input(\"Enter the second number: \"))\n",
    "\n",
    "# Find the LCM of the two numbers\n",
    "lcm_value = lcm(num1, num2)\n",
    "\n",
    "# Print the result\n",
    "print(f\"The LCM of {num1} and {num2} is {lcm_value}.\")\n"
   ]
  },
  {
   "cell_type": "markdown",
   "id": "35a93f13",
   "metadata": {},
   "source": [
    "When you run this code, it will ask the user to enter two numbers, and then it will compute and print their lowest common multiple\n",
    "\n",
    "In this code, we're defining two functions: gcd() and lcm(). The gcd() function uses the Euclidean algorithm to find the greatest common divisor of two numbers, and the lcm() function uses the formula LCM(a, b) = a * b / GCD(a, b) to find the least common multiple of two numbers.\n",
    "\n",
    "After getting the two numbers from the user, we're calling the lcm() function to compute their LCM, and then we're printing the result using string formatting."
   ]
  },
  {
   "cell_type": "code",
   "execution_count": 2,
   "id": "a10e9e11",
   "metadata": {},
   "outputs": [
    {
     "name": "stdout",
     "output_type": "stream",
     "text": [
      "Enter the number of integers: 4\n",
      "Enter integer 1: 3\n",
      "Enter integer 2: 7\n",
      "Enter integer 3: 2\n",
      "Enter integer 4: 8\n",
      "The LCM of 3, 7, 2, 8 is 168.\n"
     ]
    }
   ],
   "source": [
    "# Define a function to find the greatest common divisor of two numbers\n",
    "def gcd(a, b):\n",
    "    while b:\n",
    "        a, b = b, a % b\n",
    "    return a\n",
    "\n",
    "# Define a function to find the least common multiple of two numbers\n",
    "def lcm(a, b):\n",
    "    return a * b // gcd(a, b)\n",
    "\n",
    "# Get the numbers from the user\n",
    "n = int(input(\"Enter the number of integers: \"))\n",
    "numbers = []\n",
    "for i in range(n):\n",
    "    number = int(input(f\"Enter integer {i+1}: \"))\n",
    "    numbers.append(number)\n",
    "\n",
    "# Find the LCM of the numbers\n",
    "lcm_value = numbers[0]\n",
    "for i in range(1, n):\n",
    "    lcm_value = lcm(lcm_value, numbers[i])\n",
    "\n",
    "# Print the result\n",
    "print(f\"The LCM of {', '.join(str(x) for x in numbers)} is {lcm_value}.\")\n"
   ]
  },
  {
   "cell_type": "markdown",
   "id": "8dccc05c",
   "metadata": {},
   "source": [
    "When you run this code, it will ask the user to enter the number of integers they want to calculate the LCM for, and then it will ask the user to enter each integer. After getting the input, it will compute and print the lowest common multiple of the numbers. The result will look something like this:\n",
    "In this updated code, we're first getting the number of integers the user wants to calculate the LCM for, and then we're using a loop to get each integer and store it in a list called numbers.\n",
    "\n",
    "After getting the input, we're computing the LCM of the numbers using a loop that calls the lcm() function repeatedly. We're starting with the first number in the list, and then we're computing the LCM of that number and the next number in the list, and so on, until we've processed all the numbers.\n",
    "\n",
    "Finally, we're printing the result using string formatting, and we're using the join() method to concatenate the numbers in the list with commas."
   ]
  }
 ],
 "metadata": {
  "kernelspec": {
   "display_name": "Python 3 (ipykernel)",
   "language": "python",
   "name": "python3"
  },
  "language_info": {
   "codemirror_mode": {
    "name": "ipython",
    "version": 3
   },
   "file_extension": ".py",
   "mimetype": "text/x-python",
   "name": "python",
   "nbconvert_exporter": "python",
   "pygments_lexer": "ipython3",
   "version": "3.9.12"
  }
 },
 "nbformat": 4,
 "nbformat_minor": 5
}
